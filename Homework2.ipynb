{
 "cells": [
  {
   "cell_type": "code",
   "execution_count": 106,
   "id": "313e48f8-d752-4e57-a457-d772057405a7",
   "metadata": {},
   "outputs": [],
   "source": [
    "import pandas as pd\n",
    "import numpy as np\n",
    "import requests\n",
    "import seaborn as sns"
   ]
  },
  {
   "cell_type": "code",
   "execution_count": 107,
   "id": "ff974b0a-61a6-4813-891c-e848c2d47373",
   "metadata": {},
   "outputs": [
    {
     "data": {
      "text/html": [
       "<div>\n",
       "<style scoped>\n",
       "    .dataframe tbody tr th:only-of-type {\n",
       "        vertical-align: middle;\n",
       "    }\n",
       "\n",
       "    .dataframe tbody tr th {\n",
       "        vertical-align: top;\n",
       "    }\n",
       "\n",
       "    .dataframe thead th {\n",
       "        text-align: right;\n",
       "    }\n",
       "</style>\n",
       "<table border=\"1\" class=\"dataframe\">\n",
       "  <thead>\n",
       "    <tr style=\"text-align: right;\">\n",
       "      <th></th>\n",
       "      <th>Laptop</th>\n",
       "      <th>Status</th>\n",
       "      <th>Brand</th>\n",
       "      <th>Model</th>\n",
       "      <th>CPU</th>\n",
       "      <th>RAM</th>\n",
       "      <th>Storage</th>\n",
       "      <th>Storage type</th>\n",
       "      <th>GPU</th>\n",
       "      <th>Screen</th>\n",
       "      <th>Touch</th>\n",
       "      <th>Final Price</th>\n",
       "    </tr>\n",
       "  </thead>\n",
       "  <tbody>\n",
       "    <tr>\n",
       "      <th>0</th>\n",
       "      <td>ASUS ExpertBook B1 B1502CBA-EJ0436X Intel Core...</td>\n",
       "      <td>New</td>\n",
       "      <td>Asus</td>\n",
       "      <td>ExpertBook</td>\n",
       "      <td>Intel Core i5</td>\n",
       "      <td>8</td>\n",
       "      <td>512</td>\n",
       "      <td>SSD</td>\n",
       "      <td>NaN</td>\n",
       "      <td>15.6</td>\n",
       "      <td>No</td>\n",
       "      <td>1009.0</td>\n",
       "    </tr>\n",
       "    <tr>\n",
       "      <th>1</th>\n",
       "      <td>Alurin Go Start Intel Celeron N4020/8GB/256GB ...</td>\n",
       "      <td>New</td>\n",
       "      <td>Alurin</td>\n",
       "      <td>Go</td>\n",
       "      <td>Intel Celeron</td>\n",
       "      <td>8</td>\n",
       "      <td>256</td>\n",
       "      <td>SSD</td>\n",
       "      <td>NaN</td>\n",
       "      <td>15.6</td>\n",
       "      <td>No</td>\n",
       "      <td>299.0</td>\n",
       "    </tr>\n",
       "  </tbody>\n",
       "</table>\n",
       "</div>"
      ],
      "text/plain": [
       "                                              Laptop Status   Brand  \\\n",
       "0  ASUS ExpertBook B1 B1502CBA-EJ0436X Intel Core...    New    Asus   \n",
       "1  Alurin Go Start Intel Celeron N4020/8GB/256GB ...    New  Alurin   \n",
       "\n",
       "        Model            CPU  RAM  Storage Storage type  GPU  Screen Touch  \\\n",
       "0  ExpertBook  Intel Core i5    8      512          SSD  NaN    15.6    No   \n",
       "1          Go  Intel Celeron    8      256          SSD  NaN    15.6    No   \n",
       "\n",
       "   Final Price  \n",
       "0       1009.0  \n",
       "1        299.0  "
      ]
     },
     "execution_count": 107,
     "metadata": {},
     "output_type": "execute_result"
    }
   ],
   "source": [
    "url = \"https://raw.githubusercontent.com/alexeygrigorev/datasets/master/laptops.csv\"\n",
    "response = requests.get(url)\n",
    "\n",
    "# saving\n",
    "with open(\"laptops.csv\", \"wb\") as file:\n",
    "    file.write(response.content)\n",
    "\n",
    "df = pd.read_csv(\"laptops.csv\")\n",
    "df.head(2)"
   ]
  },
  {
   "cell_type": "code",
   "execution_count": 108,
   "id": "4c474a9f-b0d7-42d3-9619-201ec55b7951",
   "metadata": {},
   "outputs": [
    {
     "data": {
      "text/plain": [
       "['laptop', 'status', 'brand', 'model', 'cpu', 'storage_type', 'gpu', 'touch']"
      ]
     },
     "execution_count": 108,
     "metadata": {},
     "output_type": "execute_result"
    }
   ],
   "source": [
    "#cleaning df\n",
    "df.columns = df.columns.str.lower().str.replace(' ', '_')\n",
    "\n",
    "strings = list(df.dtypes[df.dtypes == 'object'].index)\n",
    "strings"
   ]
  },
  {
   "cell_type": "code",
   "execution_count": 109,
   "id": "27cce175-9c92-4284-87fb-b13810f8ebf9",
   "metadata": {},
   "outputs": [
    {
     "data": {
      "text/html": [
       "<div>\n",
       "<style scoped>\n",
       "    .dataframe tbody tr th:only-of-type {\n",
       "        vertical-align: middle;\n",
       "    }\n",
       "\n",
       "    .dataframe tbody tr th {\n",
       "        vertical-align: top;\n",
       "    }\n",
       "\n",
       "    .dataframe thead th {\n",
       "        text-align: right;\n",
       "    }\n",
       "</style>\n",
       "<table border=\"1\" class=\"dataframe\">\n",
       "  <thead>\n",
       "    <tr style=\"text-align: right;\">\n",
       "      <th></th>\n",
       "      <th>laptop</th>\n",
       "      <th>status</th>\n",
       "      <th>brand</th>\n",
       "      <th>model</th>\n",
       "      <th>cpu</th>\n",
       "      <th>ram</th>\n",
       "      <th>storage</th>\n",
       "      <th>storage_type</th>\n",
       "      <th>gpu</th>\n",
       "      <th>screen</th>\n",
       "      <th>touch</th>\n",
       "      <th>final_price</th>\n",
       "    </tr>\n",
       "  </thead>\n",
       "  <tbody>\n",
       "    <tr>\n",
       "      <th>0</th>\n",
       "      <td>asus_expertbook_b1_b1502cba-ej0436x_intel_core...</td>\n",
       "      <td>new</td>\n",
       "      <td>asus</td>\n",
       "      <td>expertbook</td>\n",
       "      <td>intel_core_i5</td>\n",
       "      <td>8</td>\n",
       "      <td>512</td>\n",
       "      <td>ssd</td>\n",
       "      <td>NaN</td>\n",
       "      <td>15.6</td>\n",
       "      <td>no</td>\n",
       "      <td>1009.0</td>\n",
       "    </tr>\n",
       "    <tr>\n",
       "      <th>1</th>\n",
       "      <td>alurin_go_start_intel_celeron_n4020/8gb/256gb_...</td>\n",
       "      <td>new</td>\n",
       "      <td>alurin</td>\n",
       "      <td>go</td>\n",
       "      <td>intel_celeron</td>\n",
       "      <td>8</td>\n",
       "      <td>256</td>\n",
       "      <td>ssd</td>\n",
       "      <td>NaN</td>\n",
       "      <td>15.6</td>\n",
       "      <td>no</td>\n",
       "      <td>299.0</td>\n",
       "    </tr>\n",
       "  </tbody>\n",
       "</table>\n",
       "</div>"
      ],
      "text/plain": [
       "                                              laptop status   brand  \\\n",
       "0  asus_expertbook_b1_b1502cba-ej0436x_intel_core...    new    asus   \n",
       "1  alurin_go_start_intel_celeron_n4020/8gb/256gb_...    new  alurin   \n",
       "\n",
       "        model            cpu  ram  storage storage_type  gpu  screen touch  \\\n",
       "0  expertbook  intel_core_i5    8      512          ssd  NaN    15.6    no   \n",
       "1          go  intel_celeron    8      256          ssd  NaN    15.6    no   \n",
       "\n",
       "   final_price  \n",
       "0       1009.0  \n",
       "1        299.0  "
      ]
     },
     "execution_count": 109,
     "metadata": {},
     "output_type": "execute_result"
    }
   ],
   "source": [
    "for col in strings:\n",
    "    df[col] = df[col].str.lower().str.replace(' ', '_')\n",
    "\n",
    "df.head(2)"
   ]
  },
  {
   "cell_type": "code",
   "execution_count": 110,
   "id": "d1021299-6d25-4402-9fd1-477021d54790",
   "metadata": {},
   "outputs": [
    {
     "name": "stdout",
     "output_type": "stream",
     "text": [
      "laptop\n",
      "2160\n",
      "status\n",
      "2\n",
      "brand\n",
      "27\n",
      "model\n",
      "121\n",
      "cpu\n",
      "28\n",
      "ram\n",
      "9\n",
      "storage\n",
      "12\n",
      "storage_type\n",
      "2\n",
      "gpu\n",
      "44\n",
      "screen\n",
      "29\n",
      "touch\n",
      "2\n",
      "final_price\n",
      "1440\n"
     ]
    }
   ],
   "source": [
    "# unique value of each column\n",
    "for col in df.columns:\n",
    "    print(col)\n",
    "    print(df[col].nunique())"
   ]
  },
  {
   "cell_type": "code",
   "execution_count": 111,
   "id": "a3b64b60-5dbe-4d5e-a851-cdd07ad9fd75",
   "metadata": {},
   "outputs": [],
   "source": [
    "# Question 1 "
   ]
  },
  {
   "cell_type": "code",
   "execution_count": 112,
   "id": "d59c650b-c95b-4b9b-af40-51b68b8859ad",
   "metadata": {},
   "outputs": [
    {
     "name": "stdout",
     "output_type": "stream",
     "text": [
      "ram\n",
      "9\n",
      "storage\n",
      "12\n",
      "screen\n",
      "29\n",
      "final_price\n",
      "1440\n",
      "These columns have missing values: screen\n"
     ]
    }
   ],
   "source": [
    "# using only demanded columns\n",
    "df_selected = df[['ram', 'storage', 'screen', 'final_price']]\n",
    "for col in df_selected:\n",
    "    print(col)\n",
    "    print(df[col].nunique())\n",
    "\n",
    "# finding which of them has missung values\n",
    "missing_values = df_selected.isnull().sum()\n",
    "columns_with_missing = missing_values[missing_values > 0].index.tolist()\n",
    "\n",
    "print(f\"These columns have missing values: {', '.join(columns_with_missing)}\")"
   ]
  },
  {
   "cell_type": "code",
   "execution_count": 113,
   "id": "8e3109ca-565d-4896-986b-42b3a4bbee08",
   "metadata": {},
   "outputs": [],
   "source": [
    "# Question 2"
   ]
  },
  {
   "cell_type": "code",
   "execution_count": 114,
   "id": "cba48877-b769-46ad-ba5d-aa5bc6f599ca",
   "metadata": {},
   "outputs": [
    {
     "name": "stdout",
     "output_type": "stream",
     "text": [
      "16.0\n"
     ]
    }
   ],
   "source": [
    "median_ram  = df_selected['ram'].median()\n",
    "print(median_ram)"
   ]
  },
  {
   "cell_type": "code",
   "execution_count": 115,
   "id": "45c0bbbf-bd06-46e0-89b5-93fbef19aeb7",
   "metadata": {},
   "outputs": [
    {
     "name": "stdout",
     "output_type": "stream",
     "text": [
      "2160\n",
      "46\n"
     ]
    },
    {
     "data": {
      "text/plain": [
       "<Axes: xlabel='final_price', ylabel='Count'>"
      ]
     },
     "execution_count": 115,
     "metadata": {},
     "output_type": "execute_result"
    },
    {
     "data": {
      "image/png": "[encoded data removed]",
      "text/plain": [
       "<Figure size 640x480 with 1 Axes>"
      ]
     },
     "metadata": {},
     "output_type": "display_data"
    }
   ],
   "source": [
    "# getting optimal number of bins\n",
    "n = len(df_selected.final_price)\n",
    "print(n)\n",
    "\n",
    "bins = int(np.sqrt(n))\n",
    "print(bins)\n",
    "sns.histplot(df.final_price, bins=bins)"
   ]
  },
  {
   "cell_type": "code",
   "execution_count": 116,
   "id": "f6a65cec-b022-417c-a838-1470bfd8ebe3",
   "metadata": {},
   "outputs": [
    {
     "data": {
      "text/plain": [
       "array([ 0.        ,  0.69314718,  2.39789527,  6.90875478, 11.51293546])"
      ]
     },
     "execution_count": 116,
     "metadata": {},
     "output_type": "execute_result"
    }
   ],
   "source": [
    "# bei sehr schiefer verteilung, oder einzelnen extrem hohen werten\n",
    "# stellt normalere verteilung her\n",
    "# für Werte die nahe bei 0 oder negativ \n",
    "\n",
    "\n",
    "# looking at the option of log for this df\n",
    "np.log1p([0, 1, 10, 1000, 100000])"
   ]
  },
  {
   "cell_type": "code",
   "execution_count": 117,
   "id": "23c8f616-cb2e-4517-a9de-35033ce99009",
   "metadata": {},
   "outputs": [
    {
     "data": {
      "text/plain": [
       "0       6.917706\n",
       "1       5.703782\n",
       "2       6.672033\n",
       "3       7.090077\n",
       "4       6.507293\n",
       "          ...   \n",
       "2155    7.901374\n",
       "2156    7.972807\n",
       "2157    8.131822\n",
       "2158    7.550130\n",
       "2159    7.438966\n",
       "Name: final_price, Length: 2160, dtype: float64"
      ]
     },
     "execution_count": 117,
     "metadata": {},
     "output_type": "execute_result"
    }
   ],
   "source": [
    "price_logs = np.log1p(df_selected.final_price)\n",
    "price_logs"
   ]
  },
  {
   "cell_type": "code",
   "execution_count": 118,
   "id": "95d94041-c2b7-4bbe-b39e-e231655a7e9c",
   "metadata": {},
   "outputs": [
    {
     "data": {
      "text/plain": [
       "<Axes: xlabel='final_price', ylabel='Count'>"
      ]
     },
     "execution_count": 118,
     "metadata": {},
     "output_type": "execute_result"
    },
    {
     "data": {
      "image/png": "[encoded data removed]",
      "text/plain": [
       "<Figure size 640x480 with 1 Axes>"
      ]
     },
     "metadata": {},
     "output_type": "display_data"
    }
   ],
   "source": [
    "sns.histplot(price_logs, bins=bins)"
   ]
  },
  {
   "cell_type": "code",
   "execution_count": 119,
   "id": "a3e2e1b2-aad2-4587-8963-889ea003a4c5",
   "metadata": {},
   "outputs": [
    {
     "data": {
      "text/plain": [
       "laptop             0\n",
       "status             0\n",
       "brand              0\n",
       "model              0\n",
       "cpu                0\n",
       "ram                0\n",
       "storage            0\n",
       "storage_type      42\n",
       "gpu             1371\n",
       "screen             4\n",
       "touch              0\n",
       "final_price        0\n",
       "dtype: int64"
      ]
     },
     "execution_count": 119,
     "metadata": {},
     "output_type": "execute_result"
    }
   ],
   "source": [
    "# see missing values all\n",
    "df.isnull().sum()"
   ]
  },
  {
   "cell_type": "code",
   "execution_count": 120,
   "id": "63557544-7222-495e-be88-beadc22ab71e",
   "metadata": {},
   "outputs": [
    {
     "name": "stdout",
     "output_type": "stream",
     "text": [
      "2160 432 432 1296\n"
     ]
    }
   ],
   "source": [
    "# prepare and split df with filtered columns\n",
    "n = len(df_selected) \n",
    "n_val = int(n * 0.2)\n",
    "n_test = int(n * 0.2)\n",
    "n_train = n - n_val - n_test\n",
    "print(n, n_val, n_test, n_train)"
   ]
  },
  {
   "cell_type": "code",
   "execution_count": 121,
   "id": "5f3849b1-0a80-4d99-959e-819772d49750",
   "metadata": {},
   "outputs": [],
   "source": [
    "df_train = df_selected.iloc[:n_train]\n",
    "df_val = df_selected.iloc[n_train:n_train+n_val]\n",
    "df_test = df_selected.iloc[n_train+n_val:]"
   ]
  },
  {
   "cell_type": "code",
   "execution_count": 122,
   "id": "c1a994b0-173d-45c9-a6e3-34daeaeb7ffa",
   "metadata": {},
   "outputs": [],
   "source": [
    "idx = np.arange(n)\n",
    "np.random.seed(42)\n",
    "np.random.shuffle(idx)"
   ]
  },
  {
   "cell_type": "code",
   "execution_count": 123,
   "id": "e8debe3e-05f5-4ff9-8a75-4dd922e35cc6",
   "metadata": {},
   "outputs": [],
   "source": [
    "df_train = df_selected.iloc[idx[:n_train]]\n",
    "df_val = df_selected.iloc[idx[n_train:n_train+n_val]]\n",
    "df_test = df_selected.iloc[idx[n_train+n_val:]]"
   ]
  },
  {
   "cell_type": "code",
   "execution_count": 124,
   "id": "79db9610-f370-43c4-8294-78bd42f0772c",
   "metadata": {},
   "outputs": [
    {
     "data": {
      "text/plain": [
       "(1296, 432, 432)"
      ]
     },
     "execution_count": 124,
     "metadata": {},
     "output_type": "execute_result"
    }
   ],
   "source": [
    "len(df_train), len(df_val), len(df_test)"
   ]
  },
  {
   "cell_type": "code",
   "execution_count": 125,
   "id": "51036e3b-fe85-4f62-aace-a3e7a73dec64",
   "metadata": {},
   "outputs": [],
   "source": [
    "df_train = df_train.reset_index(drop=True)\n",
    "df_val = df_val.reset_index(drop=True)\n",
    "df_test = df_test.reset_index(drop=True)"
   ]
  },
  {
   "cell_type": "code",
   "execution_count": 126,
   "id": "c9a38fb5-21cf-4672-b591-8e74ab099e81",
   "metadata": {},
   "outputs": [],
   "source": [
    "y = df['final_price'].values\n",
    "\n",
    "y_train = (df_train['final_price'].values)\n",
    "y_val = (df_val['final_price'].values)\n",
    "y_test = (df_test['final_price'].values)\n"
   ]
  },
  {
   "cell_type": "code",
   "execution_count": 127,
   "id": "d2a9c686-9f6a-4d0d-91d9-3c2a3fdd4e00",
   "metadata": {},
   "outputs": [],
   "source": [
    "df_train = df_train.drop(columns=['final_price'])\n",
    "df_val = df_val.drop(columns=['final_price'])\n",
    "df_test = df_test.drop(columns=['final_price'])"
   ]
  },
  {
   "cell_type": "code",
   "execution_count": 128,
   "id": "7dfed9c5-cef3-4d98-b28c-b00f6c0045a3",
   "metadata": {},
   "outputs": [
    {
     "data": {
      "text/html": [
       "<div>\n",
       "<style scoped>\n",
       "    .dataframe tbody tr th:only-of-type {\n",
       "        vertical-align: middle;\n",
       "    }\n",
       "\n",
       "    .dataframe tbody tr th {\n",
       "        vertical-align: top;\n",
       "    }\n",
       "\n",
       "    .dataframe thead th {\n",
       "        text-align: right;\n",
       "    }\n",
       "</style>\n",
       "<table border=\"1\" class=\"dataframe\">\n",
       "  <thead>\n",
       "    <tr style=\"text-align: right;\">\n",
       "      <th></th>\n",
       "      <th>ram</th>\n",
       "      <th>storage</th>\n",
       "      <th>screen</th>\n",
       "    </tr>\n",
       "  </thead>\n",
       "  <tbody>\n",
       "    <tr>\n",
       "      <th>0</th>\n",
       "      <td>32</td>\n",
       "      <td>1000</td>\n",
       "      <td>15.6</td>\n",
       "    </tr>\n",
       "    <tr>\n",
       "      <th>1</th>\n",
       "      <td>4</td>\n",
       "      <td>64</td>\n",
       "      <td>14.1</td>\n",
       "    </tr>\n",
       "    <tr>\n",
       "      <th>2</th>\n",
       "      <td>32</td>\n",
       "      <td>1000</td>\n",
       "      <td>14.0</td>\n",
       "    </tr>\n",
       "    <tr>\n",
       "      <th>3</th>\n",
       "      <td>16</td>\n",
       "      <td>512</td>\n",
       "      <td>13.3</td>\n",
       "    </tr>\n",
       "    <tr>\n",
       "      <th>4</th>\n",
       "      <td>32</td>\n",
       "      <td>1000</td>\n",
       "      <td>16.0</td>\n",
       "    </tr>\n",
       "  </tbody>\n",
       "</table>\n",
       "</div>"
      ],
      "text/plain": [
       "   ram  storage  screen\n",
       "0   32     1000    15.6\n",
       "1    4       64    14.1\n",
       "2   32     1000    14.0\n",
       "3   16      512    13.3\n",
       "4   32     1000    16.0"
      ]
     },
     "execution_count": 128,
     "metadata": {},
     "output_type": "execute_result"
    }
   ],
   "source": [
    "df_train.head()"
   ]
  },
  {
   "cell_type": "code",
   "execution_count": 129,
   "id": "b308ec5c-ce12-4a63-ae43-4fb648b9f97e",
   "metadata": {},
   "outputs": [],
   "source": [
    "# function for scalar product\n",
    "def dot(xi, w):\n",
    "    n = len(xi)\n",
    "    res = 0.0\n",
    "\n",
    "    for j in range(n):\n",
    "        res = res + xi[j] * w[j]\n",
    "    \n",
    "    return res"
   ]
  },
  {
   "cell_type": "code",
   "execution_count": 130,
   "id": "3f18a571-a5d7-40fb-9e0e-33bea0593aa7",
   "metadata": {},
   "outputs": [],
   "source": [
    "def linear_regression(xi, w): \n",
    "    xi = [1] + xi # Adding bias term (1) to the features\n",
    "    return dot(xi, w)"
   ]
  },
  {
   "cell_type": "code",
   "execution_count": 131,
   "id": "44ada2fc-1824-4ddd-bf54-e38a8b6a57db",
   "metadata": {},
   "outputs": [],
   "source": [
    "# training linear model\n",
    "def train_linear_regression(X, y):\n",
    "    ones = np.ones(X.shape[0])\n",
    "    X = np.column_stack([ones, X])\n",
    "\n",
    "    XTX = X.T.dot(X)\n",
    "    XTX_inv = np.linalg.inv(XTX)\n",
    "    w_full = XTX_inv.dot(X.T).dot(y)\n",
    "    \n",
    "    return w_full[0], w_full[1:]"
   ]
  },
  {
   "cell_type": "code",
   "execution_count": 132,
   "id": "825e0e1a-f0da-4197-95b7-f98028a0d382",
   "metadata": {},
   "outputs": [],
   "source": [
    "def rmse(y, y_pred):\n",
    "    se = (y - y_pred) ** 2\n",
    "    mse = se.mean()\n",
    "    return np.sqrt(mse)"
   ]
  },
  {
   "cell_type": "code",
   "execution_count": 133,
   "id": "f5fe73e5-27b0-4d76-986c-388e6a889203",
   "metadata": {},
   "outputs": [],
   "source": [
    "# Question 3"
   ]
  },
  {
   "cell_type": "code",
   "execution_count": 134,
   "id": "9844c78e-589f-4bcd-a9a6-312c3cf8a267",
   "metadata": {},
   "outputs": [],
   "source": [
    "# build model\n",
    "base = ['ram', 'storage', 'screen']"
   ]
  },
  {
   "cell_type": "code",
   "execution_count": 135,
   "id": "d94c4c8c-c43f-4434-b5b8-b33d554a7ae0",
   "metadata": {},
   "outputs": [
    {
     "name": "stdout",
     "output_type": "stream",
     "text": [
      "RMSE (filled with 0): 597.36\n"
     ]
    }
   ],
   "source": [
    "# model with 0 filled\n",
    "X_train_0 = df_train[base].fillna(0).values\n",
    "X_val_0 = df_val[base].fillna(0).values\n",
    "\n",
    "w0_0, w_0 = train_linear_regression(X_train_0, y_train)\n",
    "y_pred_0 = w0_0 + X_val_0.dot(w_0)\n",
    "\n",
    "rmse_0 = rmse(y_val, y_pred_0)\n",
    "\n",
    "rmse_0_rounded = round(rmse_0, 2)\n",
    "print(f\"RMSE (filled with 0): {rmse_0_rounded}\")"
   ]
  },
  {
   "cell_type": "code",
   "execution_count": 137,
   "id": "871a74a0-dcea-4ad5-868d-0cd112c660d1",
   "metadata": {},
   "outputs": [
    {
     "name": "stdout",
     "output_type": "stream",
     "text": [
      "RMSE (filled with mean): 600.27\n"
     ]
    }
   ],
   "source": [
    "# model with mean filled\n",
    "mean_screen = df_train['screen'].mean()\n",
    "X_train_mean = df_train[base].fillna(mean_screen).values\n",
    "X_val_mean = df_val[base].fillna(mean_screen).values\n",
    "\n",
    "w0_mean, w_mean = train_linear_regression(X_train_mean, y_train)\n",
    "y_pred_mean = w0_mean + X_val_mean.dot(w_mean)\n",
    "\n",
    "rmse_mean = rmse(y_val, y_pred_mean)\n",
    "\n",
    "rmse_mean_rounded = round(rmse_mean, 2)\n",
    "print(f\"RMSE (filled with mean): {rmse_mean_rounded}\")"
   ]
  },
  {
   "cell_type": "code",
   "execution_count": 380,
   "id": "32348096-3b9b-4247-aa0d-bda2b5194041",
   "metadata": {},
   "outputs": [
    {
     "name": "stdout",
     "output_type": "stream",
     "text": [
      "Filling with 0 gives a better RMSE.\n"
     ]
    }
   ],
   "source": [
    "# comparing rmse\n",
    "if rmse_0_rounded < rmse_mean_rounded:\n",
    "    print(\"Filling with 0 gives a better RMSE.\")\n",
    "elif rmse_0_rounded > rmse_mean_rounded:\n",
    "    print(\"Filling with mean gives a better RMSE.\")\n",
    "else:\n",
    "    print(\"Both options give the same RMSE.\")"
   ]
  },
  {
   "cell_type": "code",
   "execution_count": 381,
   "id": "73065912-f933-45db-b120-02647fb562a2",
   "metadata": {},
   "outputs": [],
   "source": [
    "# Question 4"
   ]
  },
  {
   "cell_type": "code",
   "execution_count": 139,
   "id": "19432c41-b2d0-427b-944c-f0ca13c04091",
   "metadata": {},
   "outputs": [
    {
     "name": "stdout",
     "output_type": "stream",
     "text": [
      "r = 0: RMSE = 597.36\n",
      "r = 0.01: RMSE = 597.36\n",
      "r = 0.1: RMSE = 597.35\n",
      "r = 1: RMSE = 597.21\n",
      "r = 5: RMSE = 597.01\n",
      "r = 10: RMSE = 597.06\n",
      "r = 100: RMSE = 597.9\n",
      "Best r: None, Best RMSE: inf\n"
     ]
    }
   ],
   "source": [
    "# regularized linear regression (ridge)\n",
    "def train_linear_regression_reg(X, y, r):\n",
    "    ones = np.ones(X.shape[0])\n",
    "    X = np.column_stack([ones, X])\n",
    "    \n",
    "    # regularization term added to XTX\n",
    "    XTX = X.T.dot(X)\n",
    "    XTX = XTX + r * np.eye(XTX.shape[0])  # regularization term\n",
    "    XTX_inv = np.linalg.inv(XTX)\n",
    "    \n",
    "    w_full = XTX_inv.dot(X.T).dot(y)\n",
    "    \n",
    "    return w_full[0], w_full[1:]\n",
    "\n",
    "# list of r values\n",
    "r_values = [0, 0.01, 0.1, 1, 5, 10, 100]\n",
    "\n",
    "# store the best rmse\n",
    "best_rmse = float('inf')\n",
    "best_r = None\n",
    "\n",
    "# iterate through all r values\n",
    "for r in r_values:\n",
    "    # train model with regularization, using X filled with 0\n",
    "    w0, w = train_linear_regression_reg(X_train_0, y_train, r)\n",
    "    y_pred = w0 + X_val_0.dot(w)\n",
    "    \n",
    "    # calculate rmse for the validation set\n",
    "    rmse_val = rmse(y_val, y_pred)\n",
    "    \n",
    "    # print each r value with its corresponding rmse\n",
    "    print(f\"r = {r}: RMSE = {round(rmse_val, 2)}\")\n",
    "    \n",
    "    # check if this r gives the best result\n",
    "    if rmse_val == best_rmse and r < best_r:\n",
    "        best_rmse = rmse_val\n",
    "        best_r = r\n",
    "\n",
    "# print best r and corresponding RMSE\n",
    "print(f\"Best r: {best_r}, Best RMSE: {round(best_rmse, 2)}\")\n"
   ]
  },
  {
   "cell_type": "code",
   "execution_count": 383,
   "id": "4e0748dc-0eef-4503-9693-59369b5676e2",
   "metadata": {},
   "outputs": [],
   "source": [
    "# Question 5"
   ]
  },
  {
   "cell_type": "code",
   "execution_count": 384,
   "id": "9f92312e-2fa0-416f-96b3-7de7a28a5024",
   "metadata": {},
   "outputs": [
    {
     "name": "stdout",
     "output_type": "stream",
     "text": [
      "Seed 0: RMSE = 565.45\n",
      "Seed 1: RMSE = 636.8\n",
      "Seed 2: RMSE = 588.96\n",
      "Seed 3: RMSE = 597.81\n",
      "Seed 4: RMSE = 571.96\n",
      "Seed 5: RMSE = 573.24\n",
      "Seed 6: RMSE = 647.34\n",
      "Seed 7: RMSE = 550.44\n",
      "Seed 8: RMSE = 587.33\n",
      "Seed 9: RMSE = 576.1\n",
      "Standard deviation of RMSE values: 29.176\n"
     ]
    }
   ],
   "source": [
    "def train_linear_regression(X, y):\n",
    "    ones = np.ones(X.shape[0])\n",
    "    X = np.column_stack([ones, X])\n",
    "    \n",
    "    XTX = X.T.dot(X)\n",
    "    XTX_inv = np.linalg.inv(XTX)\n",
    "    \n",
    "    w_full = XTX_inv.dot(X.T).dot(y)\n",
    "    \n",
    "    return w_full[0], w_full[1:]\n",
    "\n",
    "# list of seeds\n",
    "seed_values = [0, 1, 2, 3, 4, 5, 6, 7, 8, 9]\n",
    "\n",
    "# store rmse values for std calculation\n",
    "rmse_values = []\n",
    "\n",
    "# To store the best rmse\n",
    "best_rmse = float('inf')                          \n",
    "\n",
    "# iterate through all r values\n",
    "for seed in seed_values: \n",
    "    df_selected = df[['ram', 'storage', 'screen', 'final_price']]\n",
    "    base = ['ram', 'storage', 'screen']\n",
    "    \n",
    "    # 60%/20%/20% split\n",
    "    n = len(df_selected)\n",
    "    n_train = int(n * 0.6)\n",
    "    n_val = int(n * 0.2)\n",
    "    n_test = n - n_train - n_val\n",
    "\n",
    "    idx = np.arange(n)\n",
    "    np.random.seed(seed)\n",
    "    np.random.shuffle(idx)\n",
    "\n",
    "    df_train = df_selected.iloc[idx[:n_train]].reset_index(drop=True)\n",
    "    df_val = df_selected.iloc[idx[n_train:n_train+n_val]].reset_index(drop=True)\n",
    "    df_test = df_selected.iloc[idx[n_train+n_val:]].reset_index(drop=True)\n",
    "    \n",
    "    # fill nas with 0 in training and validation sets\n",
    "    X_train = df_train[base].fillna(0).values \n",
    "    X_val = df_val[base].fillna(0).values\n",
    "\n",
    "    y_train = df_train['final_price'].values\n",
    "    y_val = df_val['final_price'].values\n",
    "    y_test = df_test['final_price'].values\n",
    "\n",
    "    del df_train['final_price']\n",
    "    del df_val['final_price']\n",
    "    del df_test['final_price']\n",
    "    \n",
    "    # train model\n",
    "    w0, w = train_linear_regression(X_train, y_train)\n",
    "    y_pred = w0 + X_val.dot(w)\n",
    "    \n",
    "    \n",
    "    # calculate rmse for the validation set\n",
    "    rmse_val = rmse(y_val, y_pred)\n",
    "\n",
    "     # round rmse to 2 decimal digits\n",
    "    rmse_val_rounded = round(rmse_val, 2)\n",
    "\n",
    "    # print rmse for the current seed\n",
    "    print(f\"Seed {seed}: RMSE = {rmse_val_rounded}\")\n",
    "\n",
    "    # store rmse value for std calculation\n",
    "    rmse_values.append(rmse_val)\n",
    "    \n",
    "    # check if this r gives the best result\n",
    "    if rmse_val < best_rmse:\n",
    "        best_rmse = rmse_val\n",
    "        \n",
    "    # calculate the standard deviation of rmse values\n",
    "    std_rmse = np.std(rmse_values)\n",
    "\n",
    "# Print the best r and corresponding rmse\n",
    "print(f\"Standard deviation of RMSE values: {round(std_rmse, 3)}\")\n"
   ]
  },
  {
   "cell_type": "code",
   "execution_count": 385,
   "id": "93bf3293-9d4c-4acd-982c-457bc835c937",
   "metadata": {},
   "outputs": [],
   "source": [
    "# Question 6"
   ]
  },
  {
   "cell_type": "code",
   "execution_count": 386,
   "id": "6d179e09-8c48-45f1-ab1e-01446792e83b",
   "metadata": {
    "scrolled": true
   },
   "outputs": [
    {
     "name": "stdout",
     "output_type": "stream",
     "text": [
      "2160 432 432 1296\n",
      "RMSE on the test dataset: 608.61\n"
     ]
    }
   ],
   "source": [
    "# prepare and split df with filtered columns\n",
    "df_selected = df[['ram', 'storage', 'screen', 'final_price']]\n",
    "base = ['ram', 'storage', 'screen']\n",
    "n = len(df_selected)  \n",
    "n_val = int(n * 0.2)  \n",
    "n_test = int(n * 0.2)  \n",
    "n_train = n - n_val - n_test  \n",
    "\n",
    "print(n, n_val, n_test, n_train)  \n",
    "\n",
    "# shuffle dataset using fixed seed for reproducibility\n",
    "idx = np.arange(n)  \n",
    "np.random.seed(9)  \n",
    "np.random.shuffle(idx)  \n",
    "\n",
    "# split using the shuffled index\n",
    "df_train = df_selected.iloc[idx[:n_train]].reset_index(drop=True)\n",
    "df_val = df_selected.iloc[idx[n_train:n_train+n_val]].reset_index(drop=True)\n",
    "df_test = df_selected.iloc[idx[n_train+n_val:]].reset_index(drop=True)\n",
    "\n",
    "# prepare target variable for training and validation\n",
    "y_train = df_train['final_price'].values\n",
    "y_val = df_val['final_price'].values \n",
    "y_test = df_test['final_price'].values\n",
    "\n",
    "# remove target variable from feature sets\n",
    "del df_train['final_price']\n",
    "del df_val['final_price']\n",
    "\n",
    "# combine training and validation datasets\n",
    "X_train_val = pd.concat([df_train, df_val]).reset_index(drop=True)  \n",
    "y_train_val = np.concatenate([y_train, y_val])  \n",
    "\n",
    "# fill missing values with 0\n",
    "X_train_val_0 = np.nan_to_num(X_train_val, nan=0)\n",
    "X_test_0 = np.nan_to_num(df_test.drop(columns=['final_price']), nan=0)  # Ensure final_price is dropped\n",
    "\n",
    "# train the model with r=0.001\n",
    "r = 0.001\n",
    "w0, w = train_linear_regression_reg(X_train_val_0, y_train_val, r)\n",
    "\n",
    "# make predictions on the test dataset\n",
    "y_pred_test = w0 + X_test_0.dot(w)  # Predictions in log scale\n",
    "\n",
    "\n",
    "# calculate rmse for test dataset\n",
    "y_test_actual = df_test['final_price'].values  # get actual final price for test dataset\n",
    "rmse_test = rmse(y_test_actual, y_pred_test)  # calculate rmse using original values\n",
    "\n",
    "# output rmse\n",
    "print(f\"RMSE on the test dataset: {round(rmse_test, 2)}\")\n"
   ]
  },
  {
   "cell_type": "code",
   "execution_count": null,
   "id": "6249376d-1bab-4245-a475-edbb913ab594",
   "metadata": {},
   "outputs": [],
   "source": []
  }
 ],
 "metadata": {
  "kernelspec": {
   "display_name": "Python 3 (ipykernel)",
   "language": "python",
   "name": "python3"
  },
  "language_info": {
   "codemirror_mode": {
    "name": "ipython",
    "version": 3
   },
   "file_extension": ".py",
   "mimetype": "text/x-python",
   "name": "python",
   "nbconvert_exporter": "python",
   "pygments_lexer": "ipython3",
   "version": "3.10.13"
  }
 },
 "nbformat": 4,
 "nbformat_minor": 5
}
