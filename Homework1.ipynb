{
 "cells": [
  {
   "cell_type": "code",
   "execution_count": 17,
   "id": "404123ad-daec-4070-8c88-c5880c5eb158",
   "metadata": {},
   "outputs": [
    {
     "data": {
      "text/plain": [
       "'2.2.3'"
      ]
     },
     "execution_count": 17,
     "metadata": {},
     "output_type": "execute_result"
    }
   ],
   "source": [
    "import pandas as pd\n",
    "pd.__version__"
   ]
  },
  {
   "cell_type": "code",
   "execution_count": 18,
   "id": "1d37c761-d9a9-4fc3-a9ca-8169b8231ed5",
   "metadata": {},
   "outputs": [
    {
     "data": {
      "text/html": [
       "<div>\n",
       "<style scoped>\n",
       "    .dataframe tbody tr th:only-of-type {\n",
       "        vertical-align: middle;\n",
       "    }\n",
       "\n",
       "    .dataframe tbody tr th {\n",
       "        vertical-align: top;\n",
       "    }\n",
       "\n",
       "    .dataframe thead th {\n",
       "        text-align: right;\n",
       "    }\n",
       "</style>\n",
       "<table border=\"1\" class=\"dataframe\">\n",
       "  <thead>\n",
       "    <tr style=\"text-align: right;\">\n",
       "      <th></th>\n",
       "      <th>Laptop</th>\n",
       "      <th>Status</th>\n",
       "      <th>Brand</th>\n",
       "      <th>Model</th>\n",
       "      <th>CPU</th>\n",
       "      <th>RAM</th>\n",
       "      <th>Storage</th>\n",
       "      <th>Storage type</th>\n",
       "      <th>GPU</th>\n",
       "      <th>Screen</th>\n",
       "      <th>Touch</th>\n",
       "      <th>Final Price</th>\n",
       "    </tr>\n",
       "  </thead>\n",
       "  <tbody>\n",
       "    <tr>\n",
       "      <th>0</th>\n",
       "      <td>ASUS ExpertBook B1 B1502CBA-EJ0436X Intel Core...</td>\n",
       "      <td>New</td>\n",
       "      <td>Asus</td>\n",
       "      <td>ExpertBook</td>\n",
       "      <td>Intel Core i5</td>\n",
       "      <td>8</td>\n",
       "      <td>512</td>\n",
       "      <td>SSD</td>\n",
       "      <td>NaN</td>\n",
       "      <td>15.6</td>\n",
       "      <td>No</td>\n",
       "      <td>1009.0</td>\n",
       "    </tr>\n",
       "    <tr>\n",
       "      <th>1</th>\n",
       "      <td>Alurin Go Start Intel Celeron N4020/8GB/256GB ...</td>\n",
       "      <td>New</td>\n",
       "      <td>Alurin</td>\n",
       "      <td>Go</td>\n",
       "      <td>Intel Celeron</td>\n",
       "      <td>8</td>\n",
       "      <td>256</td>\n",
       "      <td>SSD</td>\n",
       "      <td>NaN</td>\n",
       "      <td>15.6</td>\n",
       "      <td>No</td>\n",
       "      <td>299.0</td>\n",
       "    </tr>\n",
       "  </tbody>\n",
       "</table>\n",
       "</div>"
      ],
      "text/plain": [
       "                                              Laptop Status   Brand  \\\n",
       "0  ASUS ExpertBook B1 B1502CBA-EJ0436X Intel Core...    New    Asus   \n",
       "1  Alurin Go Start Intel Celeron N4020/8GB/256GB ...    New  Alurin   \n",
       "\n",
       "        Model            CPU  RAM  Storage Storage type  GPU  Screen Touch  \\\n",
       "0  ExpertBook  Intel Core i5    8      512          SSD  NaN    15.6    No   \n",
       "1          Go  Intel Celeron    8      256          SSD  NaN    15.6    No   \n",
       "\n",
       "   Final Price  \n",
       "0       1009.0  \n",
       "1        299.0  "
      ]
     },
     "execution_count": 18,
     "metadata": {},
     "output_type": "execute_result"
    }
   ],
   "source": [
    "import requests\n",
    "\n",
    "url = \"https://raw.githubusercontent.com/alexeygrigorev/datasets/master/laptops.csv\"\n",
    "response = requests.get(url)\n",
    "\n",
    "# saving data\n",
    "with open(\"laptops.csv\", \"wb\") as file:\n",
    "    file.write(response.content)\n",
    "\n",
    "#getting overview\n",
    "df = pd.read_csv(\"laptops.csv\")\n",
    "df.head(2)\n"
   ]
  },
  {
   "cell_type": "code",
   "execution_count": 19,
   "id": "f860c69a-4a4a-443d-805e-195566794779",
   "metadata": {},
   "outputs": [
    {
     "name": "stdout",
     "output_type": "stream",
     "text": [
      "Number of records: 2160\n"
     ]
    }
   ],
   "source": [
    "# number of records in df\n",
    "num_records = df.shape[0]\n",
    "\n",
    "print(f\"Number of records: {num_records}\")"
   ]
  },
  {
   "cell_type": "code",
   "execution_count": 20,
   "id": "4b1c050c-b614-4166-a084-ab49fd9c2216",
   "metadata": {},
   "outputs": [
    {
     "name": "stdout",
     "output_type": "stream",
     "text": [
      "Number of unique brands: 27\n"
     ]
    }
   ],
   "source": [
    "# finding number of unique brands\n",
    "unique_brands = df['Brand'].nunique()\n",
    "print(\"Number of unique brands:\", unique_brands)"
   ]
  },
  {
   "cell_type": "code",
   "execution_count": 21,
   "id": "60541060-96b5-486a-af57-e3327c738479",
   "metadata": {},
   "outputs": [
    {
     "name": "stdout",
     "output_type": "stream",
     "text": [
      "Laptop             0\n",
      "Status             0\n",
      "Brand              0\n",
      "Model              0\n",
      "CPU                0\n",
      "RAM                0\n",
      "Storage            0\n",
      "Storage type      42\n",
      "GPU             1371\n",
      "Screen             4\n",
      "Touch              0\n",
      "Final Price        0\n",
      "dtype: int64\n",
      "Number of columns with missing values: 3\n"
     ]
    }
   ],
   "source": [
    "missing_values_count = df.isna().sum()\n",
    "print(missing_values_count)\n",
    "\n",
    "columns_with_missing_values = missing_values_count[missing_values_count > 0].count()\n",
    "\n",
    "print(\"Number of columns with missing values:\", columns_with_missing_values)"
   ]
  },
  {
   "cell_type": "code",
   "execution_count": 22,
   "id": "e1944eb3-831b-458a-a7c2-90af606cff22",
   "metadata": {},
   "outputs": [
    {
     "name": "stdout",
     "output_type": "stream",
     "text": [
      "Maximum final price of Dell notebooks: 3936.0\n"
     ]
    }
   ],
   "source": [
    "# filter for Dell notebooks and find the maximum final price\n",
    "max_dell_price = df[df['Brand'] == 'Dell']['Final Price'].max()\n",
    "\n",
    "print(\"Maximum final price of Dell notebooks:\", max_dell_price)"
   ]
  },
  {
   "cell_type": "code",
   "execution_count": 23,
   "id": "3b0623c3-da11-4bff-ac8d-71bf34e84322",
   "metadata": {},
   "outputs": [
    {
     "name": "stdout",
     "output_type": "stream",
     "text": [
      "Median value of Screen column: 15.6\n",
      "Most frequent value of Screen column: 15.6\n",
      "Median 2 value of Screen column: 15.6\n",
      "No. The value did not change\n"
     ]
    }
   ],
   "source": [
    "# calculate median of 'Screen' column before filling missing values\n",
    "median_screen = df['Screen'].median()\n",
    "print(\"Median value of Screen column:\", median_screen)\n",
    "\n",
    "# calculate most frequent value (mode) of 'Screen' \n",
    "most_frequent_screen = df['Screen'].mode()[0]\n",
    "print(\"Most frequent value of Screen column:\", most_frequent_screen)\n",
    "\n",
    "# fill missing values in 'Screen' with most frequent value\n",
    "df['Screen'] = df['Screen'].fillna(most_frequent_screen)\n",
    "\n",
    "# calculate the median of 'Screen' again after filling missing values\n",
    "median_screen2 = df['Screen'].median()\n",
    "print(\"Median 2 value of Screen column:\", median_screen2)\n",
    "print(\"No. The value did not change\")"
   ]
  },
  {
   "cell_type": "code",
   "execution_count": 14,
   "id": "f0407f2d-f6c2-4ebf-adde-1a9b6e35b90b",
   "metadata": {},
   "outputs": [
    {
     "name": "stdout",
     "output_type": "stream",
     "text": [
      "91.29988062995753\n"
     ]
    }
   ],
   "source": [
    "import numpy as np\n",
    "\n",
    "# select \"Innjoo\" laptops\n",
    "innjoo_laptops = df[df['Brand'] == 'Innjoo']\n",
    "\n",
    "# numpy array\n",
    "X = innjoo_laptops[['RAM', 'Storage', 'Screen']].values\n",
    "\n",
    "# matrix-matrix-multiplication \n",
    "XTX = X.T @ X\n",
    "\n",
    "# inverse of XTX \n",
    "XTX_inv = np.linalg.inv(XTX)\n",
    "\n",
    "# array y\n",
    "y = np.array([1100, 1300, 800, 900, 1000, 1100])\n",
    "\n",
    "# calculating w\n",
    "w = XTX_inv @ X.T @ y\n",
    "\n",
    "# sum of elements of w\n",
    "result = w.sum()\n",
    "print(result)\n",
    "\n"
   ]
  }
 ],
 "metadata": {
  "kernelspec": {
   "display_name": "Python 3 (ipykernel)",
   "language": "python",
   "name": "python3"
  },
  "language_info": {
   "codemirror_mode": {
    "name": "ipython",
    "version": 3
   },
   "file_extension": ".py",
   "mimetype": "text/x-python",
   "name": "python",
   "nbconvert_exporter": "python",
   "pygments_lexer": "ipython3",
   "version": "3.12.4"
  }
 },
 "nbformat": 4,
 "nbformat_minor": 5
}
