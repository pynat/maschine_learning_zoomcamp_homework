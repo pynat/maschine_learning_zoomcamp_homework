{
 "cells": [
  {
   "cell_type": "code",
   "execution_count": 18,
   "id": "81c7775e-4db0-4118-b30c-54da2ccff5c8",
   "metadata": {},
   "outputs": [],
   "source": [
    "import pandas as pd\n",
    "import numpy as np\n",
    "import requests\n",
    "import zipfile\n",
    "import io\n",
    "import matplotlib.pyplot as plt\n",
    "\n",
    "from sklearn.model_selection import train_test_split\n",
    "from sklearn.model_selection import KFold\n",
    "from sklearn.feature_extraction import DictVectorizer\n",
    "from sklearn.linear_model import LogisticRegression\n",
    "from sklearn.metrics import roc_auc_score\n",
    "from sklearn.metrics import accuracy_score\n",
    "from sklearn.metrics import precision_score, recall_score"
   ]
  },
  {
   "cell_type": "code",
   "execution_count": 19,
   "id": "a9713a51-24b5-42c5-a288-92a64a533747",
   "metadata": {},
   "outputs": [],
   "source": [
    "# acuracy = measures the proportion of correctly classified instances (both positive and negative) relative to the total number of instances\n",
    "# useful when classes are balanced \n",
    "# in highly imbalanced datasets, accuracy can be misleading as the model may simply favor the majority class\n",
    "# (tp + tn) / (tp + tn + fp + fn)\n",
    "\n",
    "# precision = indicates how many of the instances predicted as positive are actually positive\n",
    "# Anteil der korrekt vorhergesagten positiven Fälle unter allen vorhergesagten positiven Fällen\n",
    "# crucial when cost of false positives is high( f.e. disease detection) where a positive test result may trigger expensive treatments\n",
    "# tp divided by number of all predictions also tp / (tp + fp)\n",
    "\n",
    "\n",
    "# false positive rate fpr = fp / (tn + fp)\n",
    "# true positive rate tpr = tp / (fn + tp)\n",
    "\n",
    "# recall = measures how many of the actual positive instances are correctly identified by the model\n",
    "# Anteil korrekt vorhergesagten positiven Fälle unter allen tatsächlichen positiven Fällen\n",
    "\n",
    "# important when identifying as many positive cases as possible is crucial, such as in fraud detection\n",
    "# tp : (number of positive observations also tp / (tp + fn)\n",
    "\n",
    "# f1-score\n",
    "# The F1-Score is the harmonic mean of precision and recall\n",
    "# useful when you need to balance precision and recall\n",
    "\n",
    "# AUC (Area Under the Curve)\n",
    "# measures area under the ROC curve (Receiver Operating Characteristic)\n",
    "# representing model’s ability to distinguish between positive and negative classes\n",
    "# 0.5 ≤ AUC ≤ 1\n",
    "# 0.5 means the model is no better than random guessing\n",
    "# AUC of 1 represents perfect separation between classes\n",
    "# AUC is independent of any specific threshold and evaluates model performance across all thresholds"
   ]
  },
  {
   "cell_type": "code",
   "execution_count": 20,
   "id": "cc227620-c0f7-4f95-a68e-867d319addbc",
   "metadata": {},
   "outputs": [
    {
     "data": {
      "text/html": [
       "<div>\n",
       "<style scoped>\n",
       "    .dataframe tbody tr th:only-of-type {\n",
       "        vertical-align: middle;\n",
       "    }\n",
       "\n",
       "    .dataframe tbody tr th {\n",
       "        vertical-align: top;\n",
       "    }\n",
       "\n",
       "    .dataframe thead th {\n",
       "        text-align: right;\n",
       "    }\n",
       "</style>\n",
       "<table border=\"1\" class=\"dataframe\">\n",
       "  <thead>\n",
       "    <tr style=\"text-align: right;\">\n",
       "      <th></th>\n",
       "      <th>age</th>\n",
       "      <th>job</th>\n",
       "      <th>marital</th>\n",
       "      <th>education</th>\n",
       "      <th>default</th>\n",
       "      <th>balance</th>\n",
       "      <th>housing</th>\n",
       "      <th>loan</th>\n",
       "      <th>contact</th>\n",
       "      <th>day</th>\n",
       "      <th>month</th>\n",
       "      <th>duration</th>\n",
       "      <th>campaign</th>\n",
       "      <th>pdays</th>\n",
       "      <th>previous</th>\n",
       "      <th>poutcome</th>\n",
       "      <th>y</th>\n",
       "    </tr>\n",
       "  </thead>\n",
       "  <tbody>\n",
       "    <tr>\n",
       "      <th>45209</th>\n",
       "      <td>57</td>\n",
       "      <td>blue-collar</td>\n",
       "      <td>married</td>\n",
       "      <td>secondary</td>\n",
       "      <td>no</td>\n",
       "      <td>668</td>\n",
       "      <td>no</td>\n",
       "      <td>no</td>\n",
       "      <td>telephone</td>\n",
       "      <td>17</td>\n",
       "      <td>nov</td>\n",
       "      <td>508</td>\n",
       "      <td>4</td>\n",
       "      <td>-1</td>\n",
       "      <td>0</td>\n",
       "      <td>unknown</td>\n",
       "      <td>no</td>\n",
       "    </tr>\n",
       "    <tr>\n",
       "      <th>45210</th>\n",
       "      <td>37</td>\n",
       "      <td>entrepreneur</td>\n",
       "      <td>married</td>\n",
       "      <td>secondary</td>\n",
       "      <td>no</td>\n",
       "      <td>2971</td>\n",
       "      <td>no</td>\n",
       "      <td>no</td>\n",
       "      <td>cellular</td>\n",
       "      <td>17</td>\n",
       "      <td>nov</td>\n",
       "      <td>361</td>\n",
       "      <td>2</td>\n",
       "      <td>188</td>\n",
       "      <td>11</td>\n",
       "      <td>other</td>\n",
       "      <td>no</td>\n",
       "    </tr>\n",
       "  </tbody>\n",
       "</table>\n",
       "</div>"
      ],
      "text/plain": [
       "       age           job  marital  education default  balance housing loan  \\\n",
       "45209   57   blue-collar  married  secondary      no      668      no   no   \n",
       "45210   37  entrepreneur  married  secondary      no     2971      no   no   \n",
       "\n",
       "         contact  day month  duration  campaign  pdays  previous poutcome   y  \n",
       "45209  telephone   17   nov       508         4     -1         0  unknown  no  \n",
       "45210   cellular   17   nov       361         2    188        11    other  no  "
      ]
     },
     "execution_count": 20,
     "metadata": {},
     "output_type": "execute_result"
    }
   ],
   "source": [
    "url = \"https://archive.ics.uci.edu/static/public/222/bank+marketing.zip\"\n",
    "response = requests.get(url)\n",
    "\n",
    "# zip-data\n",
    "with zipfile.ZipFile(io.BytesIO(response.content)) as z:\n",
    "    # open \"bank.zip\"\n",
    "    with z.open(\"bank.zip\") as inner_zip:\n",
    "        # open inner ZIP (bank.zip)\n",
    "        with zipfile.ZipFile(inner_zip) as bank_zip:\n",
    "            # open \"bank-full.csv\" data from \"bank.zip\"\n",
    "            with bank_zip.open(\"bank-full.csv\") as csv_file:\n",
    "                # reading\n",
    "                df = pd.read_csv(csv_file, sep=\";\")\n",
    "                \n",
    "# show\n",
    "df.tail(2)"
   ]
  },
  {
   "cell_type": "code",
   "execution_count": 40,
   "id": "7b40fe9b-418b-400f-8561-58f5ea601249",
   "metadata": {},
   "outputs": [
    {
     "name": "stdout",
     "output_type": "stream",
     "text": [
      "No columns have missing values.\n"
     ]
    }
   ],
   "source": [
    "# cleaning\n",
    "df.columns = df.columns.str.lower().str.replace(' ', '_')\n",
    "\n",
    "categorical_columns = list(df.dtypes[df.dtypes == 'object'].index)\n",
    "\n",
    "for c in categorical_columns:\n",
    "    df[c] = df[c].str.lower().str.replace(' ', '_')\n",
    "\n",
    "# finding which of them has missung values\n",
    "missing_values = df.isnull().sum()\n",
    "columns_with_missing = missing_values[missing_values > 0].index.tolist()\n",
    "\n",
    "if columns_with_missing:\n",
    "    print(f\"These columns have missing values: {', '.join(columns_with_missing)}\")\n",
    "else:\n",
    "    print(\"No columns have missing values.\")"
   ]
  },
  {
   "cell_type": "code",
   "execution_count": 22,
   "id": "1b38e169-8a94-4aa3-be3d-650c3f3ecf96",
   "metadata": {},
   "outputs": [],
   "source": [
    "columns = [\n",
    "'age',\n",
    "'job',\n",
    "'marital',\n",
    "'education',\n",
    "'balance',\n",
    "'housing',\n",
    "'contact',\n",
    "'day',\n",
    "'month',\n",
    "'duration',\n",
    "'campaign',\n",
    "'pdays',\n",
    "'previous',\n",
    "'poutcome',\n",
    "'y']\n",
    "\n",
    "df_selected = df [columns]"
   ]
  },
  {
   "cell_type": "code",
   "execution_count": 23,
   "id": "1b727cb0-5f63-49b5-bfb5-26926c522709",
   "metadata": {},
   "outputs": [],
   "source": [
    "# splitting df\n",
    "df_full_train, df_test = train_test_split(df_selected, test_size=0.2, random_state=1)\n",
    "df_train, df_val = train_test_split(df_full_train, test_size=0.25, random_state=1)\n",
    "\n",
    "df_train = df_train.reset_index(drop=True)\n",
    "df_val = df_val.reset_index(drop=True)\n",
    "df_test = df_test.reset_index(drop=True)"
   ]
  },
  {
   "cell_type": "code",
   "execution_count": 24,
   "id": "531db5df-8cee-4b12-8229-9c339ad73e14",
   "metadata": {},
   "outputs": [],
   "source": [
    "# turning y into numerical value\n",
    "y_train = df_train['y'].map({'yes': 1, 'no': 0}).values\n",
    "y_val = df_val['y'].map({'yes': 1, 'no': 0}).values\n",
    "y_test = df_test['y'].map({'yes': 1, 'no': 0}).values\n",
    "\n",
    "# deleting y to avoind leaking\n",
    "del df_train['y']\n",
    "del df_val['y']\n",
    "del df_test['y']"
   ]
  },
  {
   "cell_type": "code",
   "execution_count": 25,
   "id": "17022260-1a93-4019-a713-74fe48fb600c",
   "metadata": {},
   "outputs": [],
   "source": [
    "# Question 1"
   ]
  },
  {
   "cell_type": "code",
   "execution_count": 26,
   "id": "7caf3c85-d300-4a52-84a6-ab8b1e4c9504",
   "metadata": {},
   "outputs": [],
   "source": [
    "numerical = ['age', 'balance', 'day', 'duration', 'campaign', 'pdays', 'previous']\n",
    "categorical = ['job', 'marital', 'education', 'housing', 'contact', 'month', 'poutcome']"
   ]
  },
  {
   "cell_type": "code",
   "execution_count": 29,
   "id": "a6cf6ff6-12cf-4e8d-811e-f3eba74252ef",
   "metadata": {},
   "outputs": [
    {
     "name": "stdout",
     "output_type": "stream",
     "text": [
      "Variable: duration, AUC: 0.815\n",
      "Variable: previous, AUC: 0.599\n",
      "Variable: pdays, AUC: 0.59\n",
      "Variable: balance, AUC: 0.589\n",
      "Variable: campaign, AUC: 0.571\n",
      "Variable: day, AUC: 0.526\n",
      "Variable: age, AUC: 0.512\n",
      "Variable with highest AUC is: duration with AUC-value: 0.815\n"
     ]
    }
   ],
   "source": [
    "# dictionary for saving auc variables\n",
    "auc_scores = {}\n",
    "\n",
    "# calculating auc for num variable\n",
    "for var in numerical:\n",
    "    auc = roc_auc_score(y_train, df_train[var])\n",
    "    \n",
    "    # if auc smaller 0.5, inverting var\n",
    "    if auc < 0.5:\n",
    "        auc = roc_auc_score(y_train, -df_train[var])\n",
    "    \n",
    "    # saving in dic\n",
    "    auc_scores[var] = auc\n",
    "\n",
    "# sorting auc scores by value, highest first\n",
    "sorted_auc = sorted(auc_scores.items(), key=lambda x: x[1], reverse=True)\n",
    "\n",
    "# print variable, auc rounded to 3 decimal\n",
    "for var, auc in sorted_auc:\n",
    "    print(f\"Variable: {var}, AUC: {round(auc, 3)}\")\n",
    "\n",
    "# print\n",
    "print(f\"Variable with highest AUC is: {sorted_auc[0][0]} with AUC-value: {round(sorted_auc[0][1], 3)}\")"
   ]
  },
  {
   "cell_type": "code",
   "execution_count": 12,
   "id": "85f630c0-ad2f-4186-8b08-1917ac858e45",
   "metadata": {},
   "outputs": [],
   "source": [
    "# Question 2"
   ]
  },
  {
   "cell_type": "code",
   "execution_count": 30,
   "id": "253c6e30-36ac-4428-bad4-aa1bf7039ee9",
   "metadata": {},
   "outputs": [
    {
     "name": "stdout",
     "output_type": "stream",
     "text": [
      "AUC: 0.900\n"
     ]
    }
   ],
   "source": [
    "# combining cat and num in one dict\n",
    "train_dict = df_train[categorical + numerical].to_dict(orient='records')\n",
    "\n",
    "# applying one hot encoding\n",
    "dv = DictVectorizer(sparse=False)\n",
    "X_train = dv.fit_transform(train_dict)\n",
    "\n",
    "# logistic regression\n",
    "model = LogisticRegression(solver='liblinear', C=1.0, max_iter=1000)\n",
    "model.fit(X_train, y_train)\n",
    "\n",
    "# val set\n",
    "val_dict = df_val[categorical + numerical].to_dict(orient='records')\n",
    "X_val = dv.transform(val_dict)\n",
    "\n",
    "# calculating positive pred and auc\n",
    "y_pred = model.predict_proba(X_val)[:, 1]  \n",
    "auc = roc_auc_score(y_val, y_pred)\n",
    "\n",
    "# print\n",
    "print(f\"AUC: {auc:.3f}\")"
   ]
  },
  {
   "cell_type": "code",
   "execution_count": 14,
   "id": "11c3d64d-68b4-4e4e-97c4-beb66dcaf310",
   "metadata": {},
   "outputs": [],
   "source": [
    "# Question 3"
   ]
  },
  {
   "cell_type": "code",
   "execution_count": 31,
   "id": "29ef6b42-297f-47dd-b4fb-b928719c9f16",
   "metadata": {},
   "outputs": [
    {
     "data": {
      "image/png": "[encoded data removed]",
      "text/plain": [
       "<Figure size 1000x600 with 1 Axes>"
      ]
     },
     "metadata": {},
     "output_type": "display_data"
    }
   ],
   "source": [
    "# prediction probabilities for positive class\n",
    "y_scores = model.predict_proba(X_val)[:, 1]\n",
    "\n",
    "# thresholds from 0.0 till 1.0 in steps of 0.01\n",
    "thresholds = np.linspace(0, 1, 101)\n",
    "\n",
    "precision = []\n",
    "recall = []\n",
    "\n",
    "# calculating precision and recall for every threshold\n",
    "for threshold in thresholds:\n",
    "    # binary pred based on treshold\n",
    "    y_pred = (y_scores >= threshold).astype(int)\n",
    "    \n",
    "    # calculating\n",
    "    precision.append(precision_score(y_val, y_pred, zero_division=1))\n",
    "    recall.append(recall_score(y_val, y_pred))\n",
    "\n",
    "# plotting precision and recall curves\n",
    "plt.figure(figsize=(10, 6))\n",
    "plt.plot(thresholds, precision, label='Precision', marker='o')\n",
    "plt.plot(thresholds, recall, label='Recall', marker='x')\n",
    "plt.xlabel('Threshold')\n",
    "plt.ylabel('Score')\n",
    "plt.title('Precision and Recall vs. Threshold')\n",
    "plt.legend()\n",
    "plt.grid()\n",
    "plt.show()"
   ]
  },
  {
   "cell_type": "code",
   "execution_count": 32,
   "id": "ab611ba5-851a-4d77-87b6-2d48af7a0469",
   "metadata": {},
   "outputs": [
    {
     "name": "stdout",
     "output_type": "stream",
     "text": [
      "Threshold at which Precision and Recall intersect: 0.270\n"
     ]
    }
   ],
   "source": [
    "# find threshold where precision and recall cross\n",
    "precision = np.array(precision)\n",
    "recall = np.array(recall)\n",
    "diff = np.abs(precision - recall)  \n",
    "min_diff_index = np.argmin(diff) \n",
    "best_threshold = thresholds[min_diff_index]\n",
    "\n",
    "print(f\"Threshold at which Precision and Recall intersect: {best_threshold:.3f}\")"
   ]
  },
  {
   "cell_type": "code",
   "execution_count": 33,
   "id": "73672017-e854-466b-b40d-b8160d27c0ac",
   "metadata": {},
   "outputs": [],
   "source": [
    "# Question 4"
   ]
  },
  {
   "cell_type": "code",
   "execution_count": 34,
   "id": "fe9a2187-0479-406b-b76a-e5b9a428f61d",
   "metadata": {},
   "outputs": [
    {
     "name": "stdout",
     "output_type": "stream",
     "text": [
      "Threshold with maximal F1 score: 0.220\n",
      "Maximal F1 score: 0.572\n"
     ]
    },
    {
     "data": {
      "image/png": "[encoded data removed]",
      "text/plain": [
       "<Figure size 1000x600 with 1 Axes>"
      ]
     },
     "metadata": {},
     "output_type": "display_data"
    }
   ],
   "source": [
    "# calculate f1 score for each threshold\n",
    "f1_scores = []\n",
    "\n",
    "for threshold in thresholds:\n",
    "    # binary predictions based on the threshold\n",
    "    y_pred = (y_scores >= threshold).astype(int)\n",
    "    \n",
    "    # calculate precision, recall, and f1\n",
    "    p = precision_score(y_val, y_pred, zero_division=1)\n",
    "    r = recall_score(y_val, y_pred)\n",
    "    f1 = 2 * (p * r) / (p + r) if (p + r) > 0 else 0\n",
    "    f1_scores.append(f1)\n",
    "\n",
    "# convert f1 scores to a numpy array\n",
    "f1_scores = np.array(f1_scores)\n",
    "\n",
    "# determine the threshold at which the f1 score is maximal\n",
    "max_f1_index = np.argmax(f1_scores)\n",
    "best_f1_threshold = thresholds[max_f1_index]\n",
    "\n",
    "print(f\"Threshold with maximal F1 score: {best_f1_threshold:.3f}\")\n",
    "print(f\"Maximal F1 score: {f1_scores[max_f1_index]:.3f}\")\n",
    "\n",
    "# plot the f1 score over the thresholds\n",
    "plt.figure(figsize=(10, 6))\n",
    "plt.plot(thresholds, f1_scores, label='F1 Score', marker='o')\n",
    "plt.xlabel('Threshold')\n",
    "plt.ylabel('F1 Score')\n",
    "plt.title('F1 Score vs. Threshold')\n",
    "plt.legend()\n",
    "plt.grid()\n",
    "plt.show()"
   ]
  },
  {
   "cell_type": "code",
   "execution_count": 35,
   "id": "4127f3c2-1415-4d40-a6de-a711c36cf808",
   "metadata": {},
   "outputs": [],
   "source": [
    "# Question 5"
   ]
  },
  {
   "cell_type": "code",
   "execution_count": 37,
   "id": "38d43ab7-9c97-4372-8f2b-4d2629d4870c",
   "metadata": {},
   "outputs": [
    {
     "name": "stdout",
     "output_type": "stream",
     "text": [
      "Fold 1: AUC = 0.899\n",
      "Fold 2: AUC = 0.899\n",
      "Fold 3: AUC = 0.911\n",
      "Fold 4: AUC = 0.908\n",
      "Fold 5: AUC = 0.912\n",
      "Average AUC over all folds: 0.906\n",
      "Standard deviation of AUC values: 0.006\n"
     ]
    }
   ],
   "source": [
    "# combine categorical and numerical variables\n",
    "train_dict = df_full_train[categorical + numerical].to_dict(orient='records')\n",
    "\n",
    "# one-hot-encoding\n",
    "dv = DictVectorizer(sparse=False)\n",
    "X = dv.fit_transform(train_dict)\n",
    "\n",
    "# target variable\n",
    "y = df_full_train['y'].map({'yes': 1, 'no': 0}).values\n",
    "\n",
    "# k-fold cross-validation\n",
    "kf = KFold(n_splits=5, shuffle=True, random_state=1)\n",
    "auc_scores = []\n",
    "\n",
    "for train_index, val_index in kf.split(X):\n",
    "    # split into train and validation sets\n",
    "    X_train, X_val = X[train_index], X[val_index]\n",
    "    y_train, y_val = y[train_index], y[val_index]\n",
    "\n",
    "    # model training\n",
    "    model = LogisticRegression(solver='liblinear', C=1.0, max_iter=1000)\n",
    "    model.fit(X_train, y_train)\n",
    "\n",
    "    # predictions for the validation dataset\n",
    "    y_pred = model.predict_proba(X_val)[:, 1]\n",
    "\n",
    "    # calculate auc\n",
    "    auc = roc_auc_score(y_val, y_pred)\n",
    "    auc_scores.append(auc)\n",
    "\n",
    "# output the AUC values for each fold\n",
    "for i, score in enumerate(auc_scores):\n",
    "    print(f\"Fold {i + 1}: AUC = {score:.3f}\")\n",
    "\n",
    "# average auc over all folds\n",
    "mean_auc = np.mean(auc_scores)\n",
    "print(f\"Average AUC over all folds: {mean_auc:.3f}\")\n",
    "\n",
    "# calculate the standard deviation of auc values\n",
    "std_auc = np.std(auc_scores)\n",
    "print(f\"Standard deviation of AUC values: {std_auc:.3f}\")"
   ]
  },
  {
   "cell_type": "code",
   "execution_count": 38,
   "id": "c88edc9e-4b2e-4622-91b5-e14aa3fad7fc",
   "metadata": {},
   "outputs": [],
   "source": [
    "# Question 6"
   ]
  },
  {
   "cell_type": "code",
   "execution_count": 39,
   "id": "1f58e9ff-ac1c-49d4-accd-c1446a920eb4",
   "metadata": {},
   "outputs": [
    {
     "name": "stdout",
     "output_type": "stream",
     "text": [
      "C = 1e-06: Mean AUC = 0.701, Std AUC = 0.009\n",
      "C = 0.001: Mean AUC = 0.861, Std AUC = 0.007\n",
      "C = 1: Mean AUC = 0.906, Std AUC = 0.006\n",
      "\n",
      "Best C value: 1 with Mean AUC: 0.906\n"
     ]
    }
   ],
   "source": [
    "# combine categorical and numerical variables\n",
    "train_dict = df_full_train[categorical + numerical].to_dict(orient='records')\n",
    "\n",
    "# one-hot-encoding\n",
    "dv = DictVectorizer(sparse=False)\n",
    "X = dv.fit_transform(train_dict)\n",
    "\n",
    "# target variable\n",
    "y = df_full_train['y'].map({'yes': 1, 'no': 0}).values\n",
    "\n",
    "# k-fold cross-validation\n",
    "kf = KFold(n_splits=5, shuffle=True, random_state=1)\n",
    "\n",
    "# list of c values to be tested\n",
    "C_values = [0.000001, 0.001, 1]\n",
    "\n",
    "# saving results\n",
    "results = {}\n",
    "\n",
    "for C in C_values:\n",
    "    # list to store AUC values for each c value\n",
    "    auc_scores = []  \n",
    "    \n",
    "    for train_index, val_index in kf.split(X):\n",
    "        # split into train and validation sets\n",
    "        X_train, X_val = X[train_index], X[val_index]\n",
    "        y_train, y_val = y[train_index], y[val_index]\n",
    "\n",
    "        # train model\n",
    "        model = LogisticRegression(solver='liblinear', C=C, max_iter=1000)\n",
    "        model.fit(X_train, y_train)\n",
    "\n",
    "        # predictions for the validation dataset\n",
    "        y_pred = model.predict_proba(X_val)[:, 1]\n",
    "\n",
    "        # calculate auc\n",
    "        auc = roc_auc_score(y_val, y_pred)\n",
    "        auc_scores.append(auc)  \n",
    "\n",
    "    # calculate mean and standard deviation for the current c value\n",
    "    mean_auc = np.mean(auc_scores)\n",
    "    std_auc = np.std(auc_scores)\n",
    "\n",
    "    # save\n",
    "    results[C] = (round(mean_auc, 3), round(std_auc, 3))\n",
    "\n",
    "# print\n",
    "for C, (mean, std) in results.items():\n",
    "    print(f\"C = {C}: Mean AUC = {mean}, Std AUC = {std}\")\n",
    "\n",
    "# find best c\n",
    "best_C = max(results, key=lambda k: results[k][0])\n",
    "best_mean_auc = results[best_C][0]\n",
    "\n",
    "print(f\"\\nBest C value: {best_C} with Mean AUC: {best_mean_auc}\")"
   ]
  }
 ],
 "metadata": {
  "kernelspec": {
   "display_name": "Python 3 (ipykernel)",
   "language": "python",
   "name": "python3"
  },
  "language_info": {
   "codemirror_mode": {
    "name": "ipython",
    "version": 3
   },
   "file_extension": ".py",
   "mimetype": "text/x-python",
   "name": "python",
   "nbconvert_exporter": "python",
   "pygments_lexer": "ipython3",
   "version": "3.10.13"
  }
 },
 "nbformat": 4,
 "nbformat_minor": 5
}
